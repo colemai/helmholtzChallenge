{
 "cells": [
  {
   "cell_type": "markdown",
   "metadata": {},
   "source": [
    "# Visualise, Correlate, Predict\n",
    "Author: Ian Coleman <br>\n",
    "Purpose: Data Science Challenge as below"
   ]
  },
  {
   "cell_type": "code",
   "execution_count": 2,
   "metadata": {},
   "outputs": [],
   "source": [
    "# ---------------------------------\n",
    "\n",
    "# The sample data includes following columns:\n",
    "\n",
    "# * [column 1]: sample names\n",
    "# * [column 2]: disease status y [1(diseased) & 0(not diseased)]\n",
    "# * [column 3-12]: 10 features X1,....,X10\n",
    "\n",
    "# Your tasks are:\n",
    "# 1) Visualize the data using e.g. R/Python.\n",
    "# 2) Can you find out which of the 10 features are associated to the disease status y and why?\n",
    "# 3) Build a model for disease status prediction and evaluate your model.\n",
    "\n",
    "# ---------------------------------"
   ]
  },
  {
   "cell_type": "markdown",
   "metadata": {},
   "source": [
    "### Establish Env"
   ]
  },
  {
   "cell_type": "code",
   "execution_count": 5,
   "metadata": {},
   "outputs": [],
   "source": [
    "import pandas as pd"
   ]
  },
  {
   "cell_type": "markdown",
   "metadata": {},
   "source": [
    "### Import Data, Overview"
   ]
  },
  {
   "cell_type": "code",
   "execution_count": 9,
   "metadata": {},
   "outputs": [
    {
     "name": "stdout",
     "output_type": "stream",
     "text": [
      "Shape:  (100, 12)\n"
     ]
    },
    {
     "data": {
      "text/html": [
       "<div>\n",
       "<style scoped>\n",
       "    .dataframe tbody tr th:only-of-type {\n",
       "        vertical-align: middle;\n",
       "    }\n",
       "\n",
       "    .dataframe tbody tr th {\n",
       "        vertical-align: top;\n",
       "    }\n",
       "\n",
       "    .dataframe thead th {\n",
       "        text-align: right;\n",
       "    }\n",
       "</style>\n",
       "<table border=\"1\" class=\"dataframe\">\n",
       "  <thead>\n",
       "    <tr style=\"text-align: right;\">\n",
       "      <th></th>\n",
       "      <th>Name</th>\n",
       "      <th>y</th>\n",
       "      <th>X1</th>\n",
       "      <th>X2</th>\n",
       "      <th>X3</th>\n",
       "      <th>X4</th>\n",
       "      <th>X5</th>\n",
       "      <th>X6</th>\n",
       "      <th>X7</th>\n",
       "      <th>X8</th>\n",
       "      <th>X9</th>\n",
       "      <th>X10</th>\n",
       "    </tr>\n",
       "  </thead>\n",
       "  <tbody>\n",
       "    <tr>\n",
       "      <th>83</th>\n",
       "      <td>Sample_84</td>\n",
       "      <td>0</td>\n",
       "      <td>-4.703299</td>\n",
       "      <td>4.869603</td>\n",
       "      <td>-0.316599</td>\n",
       "      <td>-3.367118</td>\n",
       "      <td>3.897258</td>\n",
       "      <td>-1.352166</td>\n",
       "      <td>4.404736</td>\n",
       "      <td>3.262811</td>\n",
       "      <td>0.469246</td>\n",
       "      <td>1.365296</td>\n",
       "    </tr>\n",
       "    <tr>\n",
       "      <th>17</th>\n",
       "      <td>Sample_18</td>\n",
       "      <td>1</td>\n",
       "      <td>-8.502386</td>\n",
       "      <td>4.184185</td>\n",
       "      <td>2.838057</td>\n",
       "      <td>-1.775648</td>\n",
       "      <td>1.788585</td>\n",
       "      <td>-2.104513</td>\n",
       "      <td>6.333050</td>\n",
       "      <td>0.385009</td>\n",
       "      <td>-2.794025</td>\n",
       "      <td>2.241190</td>\n",
       "    </tr>\n",
       "  </tbody>\n",
       "</table>\n",
       "</div>"
      ],
      "text/plain": [
       "         Name  y        X1        X2        X3        X4        X5        X6  \\\n",
       "83  Sample_84  0 -4.703299  4.869603 -0.316599 -3.367118  3.897258 -1.352166   \n",
       "17  Sample_18  1 -8.502386  4.184185  2.838057 -1.775648  1.788585 -2.104513   \n",
       "\n",
       "          X7        X8        X9       X10  \n",
       "83  4.404736  3.262811  0.469246  1.365296  \n",
       "17  6.333050  0.385009 -2.794025  2.241190  "
      ]
     },
     "execution_count": 9,
     "metadata": {},
     "output_type": "execute_result"
    }
   ],
   "source": [
    "df = pd.read_csv('data.tsv', sep='\\t')\n",
    "print('Shape: ', df.shape)\n",
    "df.sample(2)"
   ]
  },
  {
   "cell_type": "code",
   "execution_count": null,
   "metadata": {},
   "outputs": [],
   "source": [
    "# 100 observations\n",
    "# 10 features --> biological samples of unknown background\n",
    "# Binary outcome --> does or does not have disease"
   ]
  },
  {
   "cell_type": "code",
   "execution_count": 13,
   "metadata": {},
   "outputs": [
    {
     "data": {
      "text/html": [
       "<div>\n",
       "<style scoped>\n",
       "    .dataframe tbody tr th:only-of-type {\n",
       "        vertical-align: middle;\n",
       "    }\n",
       "\n",
       "    .dataframe tbody tr th {\n",
       "        vertical-align: top;\n",
       "    }\n",
       "\n",
       "    .dataframe thead th {\n",
       "        text-align: right;\n",
       "    }\n",
       "</style>\n",
       "<table border=\"1\" class=\"dataframe\">\n",
       "  <thead>\n",
       "    <tr style=\"text-align: right;\">\n",
       "      <th></th>\n",
       "      <th>y</th>\n",
       "      <th>X1</th>\n",
       "      <th>X2</th>\n",
       "      <th>X3</th>\n",
       "      <th>X4</th>\n",
       "      <th>X5</th>\n",
       "      <th>X6</th>\n",
       "      <th>X7</th>\n",
       "      <th>X8</th>\n",
       "      <th>X9</th>\n",
       "      <th>X10</th>\n",
       "    </tr>\n",
       "  </thead>\n",
       "  <tbody>\n",
       "    <tr>\n",
       "      <th>count</th>\n",
       "      <td>100.000000</td>\n",
       "      <td>100.000000</td>\n",
       "      <td>100.000000</td>\n",
       "      <td>100.000000</td>\n",
       "      <td>100.000000</td>\n",
       "      <td>100.000000</td>\n",
       "      <td>100.000000</td>\n",
       "      <td>100.000000</td>\n",
       "      <td>100.000000</td>\n",
       "      <td>100.000000</td>\n",
       "      <td>100.000000</td>\n",
       "    </tr>\n",
       "    <tr>\n",
       "      <th>mean</th>\n",
       "      <td>0.500000</td>\n",
       "      <td>-5.102348</td>\n",
       "      <td>4.074683</td>\n",
       "      <td>2.113860</td>\n",
       "      <td>-1.272770</td>\n",
       "      <td>1.941356</td>\n",
       "      <td>-2.046476</td>\n",
       "      <td>5.056326</td>\n",
       "      <td>0.148382</td>\n",
       "      <td>-1.149578</td>\n",
       "      <td>2.029137</td>\n",
       "    </tr>\n",
       "    <tr>\n",
       "      <th>std</th>\n",
       "      <td>0.502519</td>\n",
       "      <td>2.341112</td>\n",
       "      <td>1.085460</td>\n",
       "      <td>2.793793</td>\n",
       "      <td>2.094911</td>\n",
       "      <td>1.110827</td>\n",
       "      <td>0.533533</td>\n",
       "      <td>1.468583</td>\n",
       "      <td>1.910968</td>\n",
       "      <td>1.832206</td>\n",
       "      <td>0.530362</td>\n",
       "    </tr>\n",
       "    <tr>\n",
       "      <th>min</th>\n",
       "      <td>0.000000</td>\n",
       "      <td>-10.098214</td>\n",
       "      <td>1.459342</td>\n",
       "      <td>-5.944515</td>\n",
       "      <td>-6.260319</td>\n",
       "      <td>-0.123066</td>\n",
       "      <td>-3.511152</td>\n",
       "      <td>0.965622</td>\n",
       "      <td>-4.422314</td>\n",
       "      <td>-5.939233</td>\n",
       "      <td>0.230207</td>\n",
       "    </tr>\n",
       "    <tr>\n",
       "      <th>25%</th>\n",
       "      <td>0.000000</td>\n",
       "      <td>-6.523894</td>\n",
       "      <td>3.411222</td>\n",
       "      <td>0.095012</td>\n",
       "      <td>-2.338043</td>\n",
       "      <td>1.153160</td>\n",
       "      <td>-2.344421</td>\n",
       "      <td>4.092539</td>\n",
       "      <td>-1.043528</td>\n",
       "      <td>-2.294476</td>\n",
       "      <td>1.705572</td>\n",
       "    </tr>\n",
       "    <tr>\n",
       "      <th>50%</th>\n",
       "      <td>0.500000</td>\n",
       "      <td>-5.122969</td>\n",
       "      <td>4.072467</td>\n",
       "      <td>2.180125</td>\n",
       "      <td>-1.222872</td>\n",
       "      <td>1.753379</td>\n",
       "      <td>-2.120063</td>\n",
       "      <td>4.961916</td>\n",
       "      <td>0.231546</td>\n",
       "      <td>-1.155510</td>\n",
       "      <td>2.051032</td>\n",
       "    </tr>\n",
       "    <tr>\n",
       "      <th>75%</th>\n",
       "      <td>1.000000</td>\n",
       "      <td>-3.278668</td>\n",
       "      <td>4.842554</td>\n",
       "      <td>4.131111</td>\n",
       "      <td>-0.031634</td>\n",
       "      <td>2.782939</td>\n",
       "      <td>-1.723680</td>\n",
       "      <td>6.280935</td>\n",
       "      <td>1.298053</td>\n",
       "      <td>0.109281</td>\n",
       "      <td>2.422797</td>\n",
       "    </tr>\n",
       "    <tr>\n",
       "      <th>max</th>\n",
       "      <td>1.000000</td>\n",
       "      <td>1.307943</td>\n",
       "      <td>6.919229</td>\n",
       "      <td>7.740567</td>\n",
       "      <td>4.562774</td>\n",
       "      <td>4.410060</td>\n",
       "      <td>-0.658039</td>\n",
       "      <td>8.260527</td>\n",
       "      <td>4.549872</td>\n",
       "      <td>3.344339</td>\n",
       "      <td>3.172213</td>\n",
       "    </tr>\n",
       "  </tbody>\n",
       "</table>\n",
       "</div>"
      ],
      "text/plain": [
       "                y          X1          X2          X3          X4          X5  \\\n",
       "count  100.000000  100.000000  100.000000  100.000000  100.000000  100.000000   \n",
       "mean     0.500000   -5.102348    4.074683    2.113860   -1.272770    1.941356   \n",
       "std      0.502519    2.341112    1.085460    2.793793    2.094911    1.110827   \n",
       "min      0.000000  -10.098214    1.459342   -5.944515   -6.260319   -0.123066   \n",
       "25%      0.000000   -6.523894    3.411222    0.095012   -2.338043    1.153160   \n",
       "50%      0.500000   -5.122969    4.072467    2.180125   -1.222872    1.753379   \n",
       "75%      1.000000   -3.278668    4.842554    4.131111   -0.031634    2.782939   \n",
       "max      1.000000    1.307943    6.919229    7.740567    4.562774    4.410060   \n",
       "\n",
       "               X6          X7          X8          X9         X10  \n",
       "count  100.000000  100.000000  100.000000  100.000000  100.000000  \n",
       "mean    -2.046476    5.056326    0.148382   -1.149578    2.029137  \n",
       "std      0.533533    1.468583    1.910968    1.832206    0.530362  \n",
       "min     -3.511152    0.965622   -4.422314   -5.939233    0.230207  \n",
       "25%     -2.344421    4.092539   -1.043528   -2.294476    1.705572  \n",
       "50%     -2.120063    4.961916    0.231546   -1.155510    2.051032  \n",
       "75%     -1.723680    6.280935    1.298053    0.109281    2.422797  \n",
       "max     -0.658039    8.260527    4.549872    3.344339    3.172213  "
      ]
     },
     "execution_count": 13,
     "metadata": {},
     "output_type": "execute_result"
    }
   ],
   "source": [
    "df.describe()"
   ]
  },
  {
   "cell_type": "code",
   "execution_count": 15,
   "metadata": {},
   "outputs": [
    {
     "data": {
      "text/plain": [
       "Name     object\n",
       "y         int64\n",
       "X1      float64\n",
       "X2      float64\n",
       "X3      float64\n",
       "X4      float64\n",
       "X5      float64\n",
       "X6      float64\n",
       "X7      float64\n",
       "X8      float64\n",
       "X9      float64\n",
       "X10     float64\n",
       "dtype: object"
      ]
     },
     "execution_count": 15,
     "metadata": {},
     "output_type": "execute_result"
    }
   ],
   "source": [
    "df.dtypes"
   ]
  },
  {
   "cell_type": "code",
   "execution_count": 16,
   "metadata": {},
   "outputs": [
    {
     "data": {
      "text/plain": [
       "Name    0\n",
       "y       0\n",
       "X1      0\n",
       "X2      0\n",
       "X3      0\n",
       "X4      0\n",
       "X5      0\n",
       "X6      0\n",
       "X7      0\n",
       "X8      0\n",
       "X9      0\n",
       "X10     0\n",
       "dtype: int64"
      ]
     },
     "execution_count": 16,
     "metadata": {},
     "output_type": "execute_result"
    }
   ],
   "source": [
    "df.isna().sum()"
   ]
  },
  {
   "cell_type": "code",
   "execution_count": null,
   "metadata": {},
   "outputs": [],
   "source": [
    "# Based on above, no cleaning needed"
   ]
  },
  {
   "cell_type": "markdown",
   "metadata": {},
   "source": [
    "### Visualise"
   ]
  },
  {
   "cell_type": "code",
   "execution_count": null,
   "metadata": {},
   "outputs": [],
   "source": [
    "# Plot all features and outcome var on a line graph - all seem to be in ~ same range, diff colour for y"
   ]
  },
  {
   "cell_type": "code",
   "execution_count": null,
   "metadata": {},
   "outputs": [],
   "source": [
    "# Pairwise plot correlations of x's and y"
   ]
  },
  {
   "cell_type": "code",
   "execution_count": null,
   "metadata": {},
   "outputs": [],
   "source": [
    "# Pairwise get distance correlation of x's and y "
   ]
  },
  {
   "cell_type": "code",
   "execution_count": null,
   "metadata": {},
   "outputs": [],
   "source": [
    "# Visually assess each for outliers"
   ]
  },
  {
   "cell_type": "code",
   "execution_count": null,
   "metadata": {},
   "outputs": [],
   "source": []
  },
  {
   "cell_type": "code",
   "execution_count": null,
   "metadata": {},
   "outputs": [],
   "source": []
  },
  {
   "cell_type": "code",
   "execution_count": null,
   "metadata": {},
   "outputs": [],
   "source": []
  },
  {
   "cell_type": "code",
   "execution_count": null,
   "metadata": {},
   "outputs": [],
   "source": []
  }
 ],
 "metadata": {
  "kernelspec": {
   "display_name": "Python 3",
   "language": "python",
   "name": "python3"
  },
  "language_info": {
   "codemirror_mode": {
    "name": "ipython",
    "version": 3
   },
   "file_extension": ".py",
   "mimetype": "text/x-python",
   "name": "python",
   "nbconvert_exporter": "python",
   "pygments_lexer": "ipython3",
   "version": "3.6.5"
  }
 },
 "nbformat": 4,
 "nbformat_minor": 2
}
